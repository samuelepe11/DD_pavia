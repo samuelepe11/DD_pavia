{
 "cells": [
  {
   "cell_type": "markdown",
   "id": "5210174e-1b3b-4188-a8f3-e03d292dd191",
   "metadata": {
    "tags": []
   },
   "source": [
    "# Settings"
   ]
  },
  {
   "cell_type": "code",
   "execution_count": 1,
   "id": "f0f437b6-b503-4297-8de3-2818d1cd0bae",
   "metadata": {
    "scrolled": true,
    "tags": []
   },
   "source": [
    "# Install packages\n",
    "!pip install optuna\n",
    "!pip install torcheval\n",
    "!pip install ipdb\n",
    "!pip install pydicom\n",
    "!pip install segment_anything\n",
    "!pip install scikit-image\n",
    "\n",
    "# Import classes\n",
    "from TrainUtils.NetworkTrainer import NetworkTrainer\n",
    "from DataUtils.XrayDataset import XrayDataset\n",
    "from Enumerators.NetType import NetType\n",
    "\n",
    "# Initialize the file system\n",
    "import s3fs\n",
    "s3 = s3fs.S3FileSystem()"
   ],
   "outputs": []
  },
  {
   "cell_type": "markdown",
   "id": "ff4f64c6-617a-43b4-96dd-a6a6e68fb98a",
   "metadata": {},
   "source": [
    "# Initialize data"
   ]
  },
  {
   "cell_type": "code",
   "execution_count": 2,
   "id": "94a35c52-9721-41af-9000-ee94b1b32f09",
   "metadata": {
    "tags": []
   },
   "source": [
    "# Define seed\n",
    "NetworkTrainer.set_seed(111099)\n",
    "\n",
    "# Define variables\n",
    "working_dir1 = \"s3://dd-s-matteo-dev-resources/\"\n",
    "\n",
    "# Load data\n",
    "train_data1 = XrayDataset.load_dataset(working_dir=working_dir1, dataset_name=\"xray_dataset_training\", s3=s3)\n",
    "val_data1 = XrayDataset.load_dataset(working_dir=working_dir1, dataset_name=\"xray_dataset_validation\", s3=s3)\n",
    "test_data1 = XrayDataset.load_dataset(working_dir=working_dir1, dataset_name=\"xray_dataset_test\", s3=s3)"
   ],
   "outputs": []
  },
  {
   "cell_type": "markdown",
   "id": "f0bb3835-08ee-403f-a76e-2bd648c972dc",
   "metadata": {},
   "source": [
    "# Train network"
   ]
  },
  {
   "cell_type": "code",
   "execution_count": null,
   "id": "c968f53b-aa9f-4997-a025-89a3f8e28afe",
   "metadata": {
    "tags": []
   },
   "source": [
    "# Define variables\n",
    "model_name1 = \"attention_vit\"\n",
    "net_type1 = NetType.ATTENTION_VIT\n",
    "epochs1 = 100\n",
    "preprocess_inputs1 = True\n",
    "trial_n1 = None\n",
    "val_epochs1 = 10\n",
    "use_cuda1 = True\n",
    "assess_calibration1 = True\n",
    "show_test1 = False\n",
    "n_parallel_gpu1 = 4\n",
    "\n",
    "# Define trainer\n",
    "net_params1 = {\"n_conv_segment_neurons\": 1024, \"n_conv_view_neurons\": 1024, \"n_conv_segment_layers\": 1,\n",
    "               \"n_conv_view_layers\": 1, \"kernel_size\": 3, \"n_fc_layers\": 1, \"optimizer\": \"Adam\",\n",
    "               \"lr_last\": 0.0001, \"lr_second_last_factor\": 1, \"batch_size\": 4, \"p_dropout\": 0.6, \"use_batch_norm\": True}\n",
    "trainer1 = NetworkTrainer(model_name=model_name1, working_dir=working_dir1, train_data=train_data1,\n",
    "                          val_data=val_data1, test_data=test_data1, net_type=net_type1, epochs=epochs1,\n",
    "                          val_epochs=val_epochs1, preprocess_inputs=preprocess_inputs1, net_params=net_params1,\n",
    "                          use_cuda=use_cuda1, s3=s3, n_parallel_gpu=n_parallel_gpu1)\n",
    "\n",
    "# Train model\n",
    "trainer1.train(show_epochs=True)\n",
    "trainer1.summarize_performance(show_test=show_test1, show_process=True, show_cm=True, assess_calibration=assess_calibration1)"
   ],
   "outputs": []
  },
  {
   "cell_type": "code",
   "execution_count": null,
   "id": "6bb17600-0e5a-46c0-825f-01f4417924eb",
   "metadata": {},
   "source": [],
   "outputs": []
  }
 ],
 "metadata": {
  "kernelspec": {
   "display_name": "conda_pytorch_p310",
   "language": "python",
   "name": "conda_pytorch_p310"
  },
  "language_info": {
   "codemirror_mode": {
    "name": "ipython",
    "version": 3
   },
   "file_extension": ".py",
   "mimetype": "text/x-python",
   "name": "python",
   "nbconvert_exporter": "python",
   "pygments_lexer": "ipython3",
   "version": "3.10.14"
  }
 },
 "nbformat": 4,
 "nbformat_minor": 5
}
