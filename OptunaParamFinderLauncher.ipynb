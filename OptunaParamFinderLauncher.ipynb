{
 "cells": [
  {
   "cell_type": "markdown",
   "id": "5210174e-1b3b-4188-a8f3-e03d292dd191",
   "metadata": {},
   "source": [
    "# Settings"
   ]
  },
  {
   "cell_type": "code",
   "execution_count": 1,
   "id": "f0f437b6-b503-4297-8de3-2818d1cd0bae",
   "metadata": {
    "tags": []
   },
   "outputs": [
    {
     "name": "stdout",
     "output_type": "stream",
     "text": [
      "Collecting optuna\n",
      "  Downloading optuna-4.1.0-py3-none-any.whl.metadata (16 kB)\n",
      "Requirement already satisfied: alembic>=1.5.0 in /home/ec2-user/anaconda3/envs/pytorch_p310/lib/python3.10/site-packages (from optuna) (1.13.3)\n",
      "Collecting colorlog (from optuna)\n",
      "  Downloading colorlog-6.9.0-py3-none-any.whl.metadata (10 kB)\n",
      "Requirement already satisfied: numpy in /home/ec2-user/anaconda3/envs/pytorch_p310/lib/python3.10/site-packages (from optuna) (1.26.4)\n",
      "Requirement already satisfied: packaging>=20.0 in /home/ec2-user/anaconda3/envs/pytorch_p310/lib/python3.10/site-packages (from optuna) (21.3)\n",
      "Requirement already satisfied: sqlalchemy>=1.4.2 in /home/ec2-user/anaconda3/envs/pytorch_p310/lib/python3.10/site-packages (from optuna) (2.0.36)\n",
      "Requirement already satisfied: tqdm in /home/ec2-user/anaconda3/envs/pytorch_p310/lib/python3.10/site-packages (from optuna) (4.66.5)\n",
      "Requirement already satisfied: PyYAML in /home/ec2-user/anaconda3/envs/pytorch_p310/lib/python3.10/site-packages (from optuna) (6.0.2)\n",
      "Requirement already satisfied: Mako in /home/ec2-user/anaconda3/envs/pytorch_p310/lib/python3.10/site-packages (from alembic>=1.5.0->optuna) (1.3.6)\n",
      "Requirement already satisfied: typing-extensions>=4 in /home/ec2-user/anaconda3/envs/pytorch_p310/lib/python3.10/site-packages (from alembic>=1.5.0->optuna) (4.12.2)\n",
      "Requirement already satisfied: pyparsing!=3.0.5,>=2.0.2 in /home/ec2-user/anaconda3/envs/pytorch_p310/lib/python3.10/site-packages (from packaging>=20.0->optuna) (3.2.0)\n",
      "Requirement already satisfied: greenlet!=0.4.17 in /home/ec2-user/anaconda3/envs/pytorch_p310/lib/python3.10/site-packages (from sqlalchemy>=1.4.2->optuna) (3.1.1)\n",
      "Requirement already satisfied: MarkupSafe>=0.9.2 in /home/ec2-user/anaconda3/envs/pytorch_p310/lib/python3.10/site-packages (from Mako->alembic>=1.5.0->optuna) (3.0.2)\n",
      "Downloading optuna-4.1.0-py3-none-any.whl (364 kB)\n",
      "Downloading colorlog-6.9.0-py3-none-any.whl (11 kB)\n",
      "Installing collected packages: colorlog, optuna\n",
      "Successfully installed colorlog-6.9.0 optuna-4.1.0\n",
      "Collecting torcheval\n",
      "  Downloading torcheval-0.0.7-py3-none-any.whl.metadata (8.6 kB)\n",
      "Requirement already satisfied: typing-extensions in /home/ec2-user/anaconda3/envs/pytorch_p310/lib/python3.10/site-packages (from torcheval) (4.12.2)\n",
      "Downloading torcheval-0.0.7-py3-none-any.whl (179 kB)\n",
      "Installing collected packages: torcheval\n",
      "Successfully installed torcheval-0.0.7\n",
      "Collecting ipdb\n",
      "  Downloading ipdb-0.13.13-py3-none-any.whl.metadata (14 kB)\n",
      "Requirement already satisfied: ipython>=7.31.1 in /home/ec2-user/anaconda3/envs/pytorch_p310/lib/python3.10/site-packages (from ipdb) (8.28.0)\n",
      "Requirement already satisfied: tomli in /home/ec2-user/anaconda3/envs/pytorch_p310/lib/python3.10/site-packages (from ipdb) (2.0.2)\n",
      "Requirement already satisfied: decorator in /home/ec2-user/anaconda3/envs/pytorch_p310/lib/python3.10/site-packages (from ipdb) (5.1.1)\n",
      "Requirement already satisfied: jedi>=0.16 in /home/ec2-user/anaconda3/envs/pytorch_p310/lib/python3.10/site-packages (from ipython>=7.31.1->ipdb) (0.19.1)\n",
      "Requirement already satisfied: matplotlib-inline in /home/ec2-user/anaconda3/envs/pytorch_p310/lib/python3.10/site-packages (from ipython>=7.31.1->ipdb) (0.1.7)\n",
      "Requirement already satisfied: prompt-toolkit<3.1.0,>=3.0.41 in /home/ec2-user/anaconda3/envs/pytorch_p310/lib/python3.10/site-packages (from ipython>=7.31.1->ipdb) (3.0.48)\n",
      "Requirement already satisfied: pygments>=2.4.0 in /home/ec2-user/anaconda3/envs/pytorch_p310/lib/python3.10/site-packages (from ipython>=7.31.1->ipdb) (2.18.0)\n",
      "Requirement already satisfied: stack-data in /home/ec2-user/anaconda3/envs/pytorch_p310/lib/python3.10/site-packages (from ipython>=7.31.1->ipdb) (0.6.2)\n",
      "Requirement already satisfied: traitlets>=5.13.0 in /home/ec2-user/anaconda3/envs/pytorch_p310/lib/python3.10/site-packages (from ipython>=7.31.1->ipdb) (5.14.3)\n",
      "Requirement already satisfied: exceptiongroup in /home/ec2-user/anaconda3/envs/pytorch_p310/lib/python3.10/site-packages (from ipython>=7.31.1->ipdb) (1.2.2)\n",
      "Requirement already satisfied: typing-extensions>=4.6 in /home/ec2-user/anaconda3/envs/pytorch_p310/lib/python3.10/site-packages (from ipython>=7.31.1->ipdb) (4.12.2)\n",
      "Requirement already satisfied: pexpect>4.3 in /home/ec2-user/anaconda3/envs/pytorch_p310/lib/python3.10/site-packages (from ipython>=7.31.1->ipdb) (4.9.0)\n",
      "Requirement already satisfied: parso<0.9.0,>=0.8.3 in /home/ec2-user/anaconda3/envs/pytorch_p310/lib/python3.10/site-packages (from jedi>=0.16->ipython>=7.31.1->ipdb) (0.8.4)\n",
      "Requirement already satisfied: ptyprocess>=0.5 in /home/ec2-user/anaconda3/envs/pytorch_p310/lib/python3.10/site-packages (from pexpect>4.3->ipython>=7.31.1->ipdb) (0.7.0)\n",
      "Requirement already satisfied: wcwidth in /home/ec2-user/anaconda3/envs/pytorch_p310/lib/python3.10/site-packages (from prompt-toolkit<3.1.0,>=3.0.41->ipython>=7.31.1->ipdb) (0.2.13)\n",
      "Requirement already satisfied: executing>=1.2.0 in /home/ec2-user/anaconda3/envs/pytorch_p310/lib/python3.10/site-packages (from stack-data->ipython>=7.31.1->ipdb) (2.1.0)\n",
      "Requirement already satisfied: asttokens>=2.1.0 in /home/ec2-user/anaconda3/envs/pytorch_p310/lib/python3.10/site-packages (from stack-data->ipython>=7.31.1->ipdb) (2.4.1)\n",
      "Requirement already satisfied: pure-eval in /home/ec2-user/anaconda3/envs/pytorch_p310/lib/python3.10/site-packages (from stack-data->ipython>=7.31.1->ipdb) (0.2.3)\n",
      "Requirement already satisfied: six>=1.12.0 in /home/ec2-user/anaconda3/envs/pytorch_p310/lib/python3.10/site-packages (from asttokens>=2.1.0->stack-data->ipython>=7.31.1->ipdb) (1.16.0)\n",
      "Downloading ipdb-0.13.13-py3-none-any.whl (12 kB)\n",
      "Installing collected packages: ipdb\n",
      "Successfully installed ipdb-0.13.13\n",
      "Collecting pydicom\n",
      "  Downloading pydicom-3.0.1-py3-none-any.whl.metadata (9.4 kB)\n",
      "Downloading pydicom-3.0.1-py3-none-any.whl (2.4 MB)\n",
      "\u001b[2K   \u001b[90m━━━━━━━━━━━━━━━━━━━━━━━━━━━━━━━━━━━━━━━━\u001b[0m \u001b[32m2.4/2.4 MB\u001b[0m \u001b[31m105.6 MB/s\u001b[0m eta \u001b[36m0:00:00\u001b[0m\n",
      "\u001b[?25hInstalling collected packages: pydicom\n",
      "Successfully installed pydicom-3.0.1\n",
      "Collecting segment_anything\n",
      "  Downloading segment_anything-1.0-py3-none-any.whl.metadata (487 bytes)\n",
      "Downloading segment_anything-1.0-py3-none-any.whl (36 kB)\n",
      "Installing collected packages: segment_anything\n",
      "Successfully installed segment_anything-1.0\n",
      "Collecting scikit-image\n",
      "  Downloading scikit_image-0.24.0-cp310-cp310-manylinux_2_17_x86_64.manylinux2014_x86_64.whl.metadata (14 kB)\n",
      "Requirement already satisfied: numpy>=1.23 in /home/ec2-user/anaconda3/envs/pytorch_p310/lib/python3.10/site-packages (from scikit-image) (1.26.4)\n",
      "Requirement already satisfied: scipy>=1.9 in /home/ec2-user/anaconda3/envs/pytorch_p310/lib/python3.10/site-packages (from scikit-image) (1.14.1)\n",
      "Requirement already satisfied: networkx>=2.8 in /home/ec2-user/anaconda3/envs/pytorch_p310/lib/python3.10/site-packages (from scikit-image) (3.4.2)\n",
      "Requirement already satisfied: pillow>=9.1 in /home/ec2-user/anaconda3/envs/pytorch_p310/lib/python3.10/site-packages (from scikit-image) (11.0.0)\n",
      "Requirement already satisfied: imageio>=2.33 in /home/ec2-user/anaconda3/envs/pytorch_p310/lib/python3.10/site-packages (from scikit-image) (2.36.0)\n",
      "Collecting tifffile>=2022.8.12 (from scikit-image)\n",
      "  Downloading tifffile-2024.9.20-py3-none-any.whl.metadata (32 kB)\n",
      "Requirement already satisfied: packaging>=21 in /home/ec2-user/anaconda3/envs/pytorch_p310/lib/python3.10/site-packages (from scikit-image) (21.3)\n",
      "Collecting lazy-loader>=0.4 (from scikit-image)\n",
      "  Downloading lazy_loader-0.4-py3-none-any.whl.metadata (7.6 kB)\n",
      "Requirement already satisfied: pyparsing!=3.0.5,>=2.0.2 in /home/ec2-user/anaconda3/envs/pytorch_p310/lib/python3.10/site-packages (from packaging>=21->scikit-image) (3.2.0)\n",
      "Downloading scikit_image-0.24.0-cp310-cp310-manylinux_2_17_x86_64.manylinux2014_x86_64.whl (14.9 MB)\n",
      "\u001b[2K   \u001b[90m━━━━━━━━━━━━━━━━━━━━━━━━━━━━━━━━━━━━━━━━\u001b[0m \u001b[32m14.9/14.9 MB\u001b[0m \u001b[31m111.7 MB/s\u001b[0m eta \u001b[36m0:00:00\u001b[0m\n",
      "\u001b[?25hDownloading lazy_loader-0.4-py3-none-any.whl (12 kB)\n",
      "Downloading tifffile-2024.9.20-py3-none-any.whl (228 kB)\n",
      "Installing collected packages: tifffile, lazy-loader, scikit-image\n",
      "Successfully installed lazy-loader-0.4 scikit-image-0.24.0 tifffile-2024.9.20\n",
      "Collecting kaleido\n",
      "  Downloading kaleido-0.2.1-py2.py3-none-manylinux1_x86_64.whl.metadata (15 kB)\n",
      "Downloading kaleido-0.2.1-py2.py3-none-manylinux1_x86_64.whl (79.9 MB)\n",
      "\u001b[2K   \u001b[90m━━━━━━━━━━━━━━━━━━━━━━━━━━━━━━━━━━━━━━━━\u001b[0m \u001b[32m79.9/79.9 MB\u001b[0m \u001b[31m87.2 MB/s\u001b[0m eta \u001b[36m0:00:00\u001b[0m:00:01\u001b[0m00:01\u001b[0m\n",
      "\u001b[?25hInstalling collected packages: kaleido\n",
      "Successfully installed kaleido-0.2.1\n"
     ]
    }
   ],
   "source": [
    "# Install packages\n",
    "!pip install optuna\n",
    "!pip install torcheval\n",
    "!pip install ipdb\n",
    "!pip install pydicom\n",
    "!pip install segment_anything\n",
    "!pip install scikit-image\n",
    "!pip install -U kaleido\n",
    "\n",
    "# Import classes\n",
    "from TrainUtils.OptunaParamFinder import OptunaParamFinder\n",
    "from DataUtils.XrayDataset import XrayDataset\n",
    "from Enumerators.NetType import NetType\n",
    "\n",
    "# Initialize the file system\n",
    "import s3fs\n",
    "s3 = s3fs.S3FileSystem()"
   ]
  },
  {
   "cell_type": "markdown",
   "id": "ff4f64c6-617a-43b4-96dd-a6a6e68fb98a",
   "metadata": {},
   "source": [
    "# Initialize data"
   ]
  },
  {
   "cell_type": "code",
   "execution_count": 2,
   "id": "94a35c52-9721-41af-9000-ee94b1b32f09",
   "metadata": {
    "tags": []
   },
   "outputs": [
    {
     "name": "stdout",
     "output_type": "stream",
     "text": [
      "The dataset xray_dataset_training have been loaded!\n",
      "The dataset xray_dataset_validation have been loaded!\n",
      "The dataset xray_dataset_test have been loaded!\n"
     ]
    }
   ],
   "source": [
    "# Define variables\n",
    "working_dir1 = \"s3://dd-s-matteo-dev-resources/\"\n",
    "\n",
    "# Load data\n",
    "train_data1 = XrayDataset.load_dataset(working_dir=working_dir1, dataset_name=\"xray_dataset_training\", s3=s3)\n",
    "val_data1 = XrayDataset.load_dataset(working_dir=working_dir1, dataset_name=\"xray_dataset_validation\", s3=s3)\n",
    "test_data1 = XrayDataset.load_dataset(working_dir=working_dir1, dataset_name=\"xray_dataset_test\", s3=s3)"
   ]
  },
  {
   "cell_type": "markdown",
   "id": "f0bb3835-08ee-403f-a76e-2bd648c972dc",
   "metadata": {},
   "source": [
    "# Optimize parameters"
   ]
  },
  {
   "cell_type": "code",
   "execution_count": null,
   "id": "c968f53b-aa9f-4997-a025-89a3f8e28afe",
   "metadata": {
    "tags": []
   },
   "outputs": [
    {
     "name": "stderr",
     "output_type": "stream",
     "text": [
      "[I 2024-12-09 11:22:46,616] A new study created in memory with name: no-name-457aed2d-3745-4aea-afca-be0615bf609c\n"
     ]
    },
    {
     "name": "stdout",
     "output_type": "stream",
     "text": [
      "-------------------------------------------------------------------------------------------------------\n",
      "Parameters: {'n_conv_neurons': 2048, 'n_conv_layers': 3, 'kernel_size': 3, 'n_fc_layers': 3, 'optimizer': 'SGD', 'lr_last': 0.1, 'lr_second_last_factor': 5, 'batch_size': 128}\n"
     ]
    },
    {
     "name": "stderr",
     "output_type": "stream",
     "text": [
      "Downloading: \"https://download.pytorch.org/models/resnext50_32x4d-1a0047aa.pth\" to /home/ec2-user/.cache/torch/hub/checkpoints/resnext50_32x4d-1a0047aa.pth\n",
      "Downloading: \"https://download.pytorch.org/models/resnext101_64x4d-173b62eb.pth\" to /home/ec2-user/.cache/torch/hub/checkpoints/resnext101_64x4d-173b62eb.pth\n",
      "[I 2024-12-09 11:23:32,385] Trial 0 finished with value: 0.0 and parameters: {'n_conv_neurons': 11, 'n_conv_layers': 3, 'kernel_size': 3, 'n_fc_layers': 3, 'optimizer': 'SGD', 'lr_last': 1, 'lr_second_last_factor': 5, 'batch_size': 7}. Best is trial 0 with value: 0.0.\n"
     ]
    },
    {
     "name": "stdout",
     "output_type": "stream",
     "text": [
      "An error occurred: CUDA out of memory. Tried to allocate 3.06 GiB. GPU 0 has a total capacity of 21.98 GiB of which 408.44 MiB is free. Including non-PyTorch memory, this process has 21.57 GiB memory in use. Of the allocated memory 17.95 GiB is allocated by PyTorch, and 3.32 GiB is reserved by PyTorch but unallocated. If reserved but unallocated memory is large try setting PYTORCH_CUDA_ALLOC_CONF=expandable_segments:True to avoid fragmentation.  See documentation for Memory Management  (https://pytorch.org/docs/stable/notes/cuda.html#environment-variables)\n",
      "-------------------------------------------------------------------------------------------------------\n",
      "Parameters: {'n_conv_neurons': 512, 'n_conv_layers': 2, 'kernel_size': 3, 'n_fc_layers': 3, 'optimizer': 'Adam', 'lr_last': 0.1, 'lr_second_last_factor': 10, 'batch_size': 64}\n",
      "'resnext101_optuna' has been successfully saved!... train loss: 31.3102 -> 33.4467\n",
      "\n",
      "Training loss = 33.58456 - Training accuracy = 66.0655737% - Training F1-score = 0.0%\n",
      "Performance for TRAINING set:\n",
      " - Accuracy: 66.07%\n",
      " - LOSS: 33.58\n",
      " - F1-score: 0.0%\n",
      " - AUC: 50.0%\n",
      " - MCC: 0.0\n",
      "\n",
      "Validation loss = 28.95221 - Validation accuracy = 67.9012358% - Validation F1-score = 0.0\n",
      "Performance for VALIDATION set:\n",
      " - Accuracy: 67.9%\n",
      " - LOSS: 28.95\n",
      " - F1-score: 0.0%\n",
      " - AUC: 50.0%\n",
      " - MCC: 0.0\n"
     ]
    },
    {
     "name": "stderr",
     "output_type": "stream",
     "text": [
      "[I 2024-12-09 14:51:18,066] Trial 1 finished with value: 0.0 and parameters: {'n_conv_neurons': 9, 'n_conv_layers': 2, 'kernel_size': 3, 'n_fc_layers': 3, 'optimizer': 'Adam', 'lr_last': 1, 'lr_second_last_factor': 10, 'batch_size': 6}. Best is trial 0 with value: 0.0.\n"
     ]
    },
    {
     "name": "stdout",
     "output_type": "stream",
     "text": [
      "-------------------------------------------------------------------------------------------------------\n",
      "Parameters: {'n_conv_neurons': 2048, 'n_conv_layers': 2, 'kernel_size': 5, 'n_fc_layers': 3, 'optimizer': 'Adam', 'lr_last': 0.001, 'lr_second_last_factor': 10, 'batch_size': 32}\n",
      "'resnext101_optuna' has been successfully saved!... train loss: 0.6526 -> 0.5076\n",
      "\n",
      "Training loss = 34.53147 - Training accuracy = 66.2295103% - Training F1-score = 0.961%\n",
      "Performance for TRAINING set:\n",
      " - Accuracy: 66.23%\n",
      " - LOSS: 34.53\n",
      " - F1-score: 0.96%\n",
      " - AUC: 50.24%\n",
      " - MCC: 0.06\n",
      "\n"
     ]
    },
    {
     "name": "stderr",
     "output_type": "stream",
     "text": [
      "[I 2024-12-09 18:21:22,090] Trial 2 finished with value: 0.0 and parameters: {'n_conv_neurons': 11, 'n_conv_layers': 2, 'kernel_size': 5, 'n_fc_layers': 3, 'optimizer': 'Adam', 'lr_last': 3, 'lr_second_last_factor': 10, 'batch_size': 5}. Best is trial 0 with value: 0.0.\n"
     ]
    },
    {
     "name": "stdout",
     "output_type": "stream",
     "text": [
      "Validation loss = 30.7598 - Validation accuracy = 67.9012358% - Validation F1-score = 0.0\n",
      "Performance for VALIDATION set:\n",
      " - Accuracy: 67.9%\n",
      " - LOSS: 30.76\n",
      " - F1-score: 0.0%\n",
      " - AUC: 50.0%\n",
      " - MCC: 0.0\n",
      "-------------------------------------------------------------------------------------------------------\n",
      "Parameters: {'n_conv_neurons': 512, 'n_conv_layers': 1, 'kernel_size': 3, 'n_fc_layers': 3, 'optimizer': 'Adam', 'lr_last': 0.01, 'lr_second_last_factor': 5, 'batch_size': 64}\n"
     ]
    }
   ],
   "source": [
    "# Define variables\n",
    "model_name1 = \"resnext101_optuna\"\n",
    "net_type1 = NetType.RES_NEXT101\n",
    "epochs1 = 100\n",
    "val_epochs1 = 10\n",
    "use_cuda1 = True\n",
    "\n",
    "# Define Optuna model\n",
    "n_trials1 = 10\n",
    "optuna1 = OptunaParamFinder(model_name=model_name1, working_dir=working_dir1, train_data=train_data1,\n",
    "                            val_data=val_data1, test_data=test_data1, net_type=net_type1, epochs=epochs1,\n",
    "                            val_epochs=val_epochs1, use_cuda=use_cuda1, n_trials=n_trials1, s3=s3)\n",
    "# Run search\n",
    "optuna1.initialize_study()\n",
    "\n",
    "# Evaluate study\n",
    "print()\n",
    "optuna1.analyze_study()"
   ]
  },
  {
   "cell_type": "code",
   "execution_count": null,
   "id": "10b51f6a-69b8-4bd8-9418-0abdf16de527",
   "metadata": {},
   "outputs": [],
   "source": []
  }
 ],
 "metadata": {
  "kernelspec": {
   "display_name": "conda_pytorch_p310",
   "language": "python",
   "name": "conda_pytorch_p310"
  },
  "language_info": {
   "codemirror_mode": {
    "name": "ipython",
    "version": 3
   },
   "file_extension": ".py",
   "mimetype": "text/x-python",
   "name": "python",
   "nbconvert_exporter": "python",
   "pygments_lexer": "ipython3",
   "version": "3.10.14"
  }
 },
 "nbformat": 4,
 "nbformat_minor": 5
}
