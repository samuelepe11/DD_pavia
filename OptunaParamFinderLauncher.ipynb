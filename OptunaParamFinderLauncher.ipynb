{
 "cells": [
  {
   "cell_type": "markdown",
   "id": "5210174e-1b3b-4188-a8f3-e03d292dd191",
   "metadata": {},
   "source": [
    "# Settings"
   ]
  },
  {
   "cell_type": "code",
   "execution_count": 1,
   "id": "f0f437b6-b503-4297-8de3-2818d1cd0bae",
   "metadata": {
    "tags": []
   },
   "outputs": [
    {
     "name": "stdout",
     "output_type": "stream",
     "text": [
      "Collecting optuna\n",
      "  Downloading optuna-4.1.0-py3-none-any.whl.metadata (16 kB)\n",
      "Collecting alembic>=1.5.0 (from optuna)\n",
      "  Downloading alembic-1.14.0-py3-none-any.whl.metadata (7.4 kB)\n",
      "Collecting colorlog (from optuna)\n",
      "  Downloading colorlog-6.9.0-py3-none-any.whl.metadata (10 kB)\n",
      "Requirement already satisfied: numpy in /home/ec2-user/anaconda3/envs/pytorch_p310/lib/python3.10/site-packages (from optuna) (1.26.4)\n",
      "Requirement already satisfied: packaging>=20.0 in /home/ec2-user/anaconda3/envs/pytorch_p310/lib/python3.10/site-packages (from optuna) (21.3)\n",
      "Collecting sqlalchemy>=1.4.2 (from optuna)\n",
      "  Downloading SQLAlchemy-2.0.36-cp310-cp310-manylinux_2_17_x86_64.manylinux2014_x86_64.whl.metadata (9.7 kB)\n",
      "Requirement already satisfied: tqdm in /home/ec2-user/anaconda3/envs/pytorch_p310/lib/python3.10/site-packages (from optuna) (4.67.1)\n",
      "Requirement already satisfied: PyYAML in /home/ec2-user/anaconda3/envs/pytorch_p310/lib/python3.10/site-packages (from optuna) (6.0.2)\n",
      "Collecting Mako (from alembic>=1.5.0->optuna)\n",
      "  Downloading Mako-1.3.8-py3-none-any.whl.metadata (2.9 kB)\n",
      "Requirement already satisfied: typing-extensions>=4 in /home/ec2-user/anaconda3/envs/pytorch_p310/lib/python3.10/site-packages (from alembic>=1.5.0->optuna) (4.12.2)\n",
      "Requirement already satisfied: pyparsing!=3.0.5,>=2.0.2 in /home/ec2-user/anaconda3/envs/pytorch_p310/lib/python3.10/site-packages (from packaging>=20.0->optuna) (3.2.0)\n",
      "Collecting greenlet!=0.4.17 (from sqlalchemy>=1.4.2->optuna)\n",
      "  Downloading greenlet-3.1.1-cp310-cp310-manylinux_2_24_x86_64.manylinux_2_28_x86_64.whl.metadata (3.8 kB)\n",
      "Requirement already satisfied: MarkupSafe>=0.9.2 in /home/ec2-user/anaconda3/envs/pytorch_p310/lib/python3.10/site-packages (from Mako->alembic>=1.5.0->optuna) (3.0.2)\n",
      "Downloading optuna-4.1.0-py3-none-any.whl (364 kB)\n",
      "Downloading alembic-1.14.0-py3-none-any.whl (233 kB)\n",
      "Downloading SQLAlchemy-2.0.36-cp310-cp310-manylinux_2_17_x86_64.manylinux2014_x86_64.whl (3.1 MB)\n",
      "\u001b[2K   \u001b[90m━━━━━━━━━━━━━━━━━━━━━━━━━━━━━━━━━━━━━━━━\u001b[0m \u001b[32m3.1/3.1 MB\u001b[0m \u001b[31m35.5 MB/s\u001b[0m eta \u001b[36m0:00:00\u001b[0m\n",
      "\u001b[?25hDownloading colorlog-6.9.0-py3-none-any.whl (11 kB)\n",
      "Downloading greenlet-3.1.1-cp310-cp310-manylinux_2_24_x86_64.manylinux_2_28_x86_64.whl (599 kB)\n",
      "\u001b[2K   \u001b[90m━━━━━━━━━━━━━━━━━━━━━━━━━━━━━━━━━━━━━━━━\u001b[0m \u001b[32m599.5/599.5 kB\u001b[0m \u001b[31m8.3 MB/s\u001b[0m eta \u001b[36m0:00:00\u001b[0m\n",
      "\u001b[?25hDownloading Mako-1.3.8-py3-none-any.whl (78 kB)\n",
      "Installing collected packages: Mako, greenlet, colorlog, sqlalchemy, alembic, optuna\n",
      "Successfully installed Mako-1.3.8 alembic-1.14.0 colorlog-6.9.0 greenlet-3.1.1 optuna-4.1.0 sqlalchemy-2.0.36\n",
      "Collecting torcheval\n",
      "  Downloading torcheval-0.0.7-py3-none-any.whl.metadata (8.6 kB)\n",
      "Requirement already satisfied: typing-extensions in /home/ec2-user/anaconda3/envs/pytorch_p310/lib/python3.10/site-packages (from torcheval) (4.12.2)\n",
      "Downloading torcheval-0.0.7-py3-none-any.whl (179 kB)\n",
      "Installing collected packages: torcheval\n",
      "Successfully installed torcheval-0.0.7\n",
      "Collecting ipdb\n",
      "  Downloading ipdb-0.13.13-py3-none-any.whl.metadata (14 kB)\n",
      "Requirement already satisfied: ipython>=7.31.1 in /home/ec2-user/anaconda3/envs/pytorch_p310/lib/python3.10/site-packages (from ipdb) (8.30.0)\n",
      "Requirement already satisfied: tomli in /home/ec2-user/anaconda3/envs/pytorch_p310/lib/python3.10/site-packages (from ipdb) (2.2.1)\n",
      "Requirement already satisfied: decorator in /home/ec2-user/anaconda3/envs/pytorch_p310/lib/python3.10/site-packages (from ipdb) (5.1.1)\n",
      "Requirement already satisfied: exceptiongroup in /home/ec2-user/anaconda3/envs/pytorch_p310/lib/python3.10/site-packages (from ipython>=7.31.1->ipdb) (1.2.2)\n",
      "Requirement already satisfied: jedi>=0.16 in /home/ec2-user/anaconda3/envs/pytorch_p310/lib/python3.10/site-packages (from ipython>=7.31.1->ipdb) (0.19.2)\n",
      "Requirement already satisfied: matplotlib-inline in /home/ec2-user/anaconda3/envs/pytorch_p310/lib/python3.10/site-packages (from ipython>=7.31.1->ipdb) (0.1.7)\n",
      "Requirement already satisfied: pexpect>4.3 in /home/ec2-user/anaconda3/envs/pytorch_p310/lib/python3.10/site-packages (from ipython>=7.31.1->ipdb) (4.9.0)\n",
      "Requirement already satisfied: prompt_toolkit<3.1.0,>=3.0.41 in /home/ec2-user/anaconda3/envs/pytorch_p310/lib/python3.10/site-packages (from ipython>=7.31.1->ipdb) (3.0.48)\n",
      "Requirement already satisfied: pygments>=2.4.0 in /home/ec2-user/anaconda3/envs/pytorch_p310/lib/python3.10/site-packages (from ipython>=7.31.1->ipdb) (2.18.0)\n",
      "Requirement already satisfied: stack_data in /home/ec2-user/anaconda3/envs/pytorch_p310/lib/python3.10/site-packages (from ipython>=7.31.1->ipdb) (0.6.3)\n",
      "Requirement already satisfied: traitlets>=5.13.0 in /home/ec2-user/anaconda3/envs/pytorch_p310/lib/python3.10/site-packages (from ipython>=7.31.1->ipdb) (5.14.3)\n",
      "Requirement already satisfied: typing_extensions>=4.6 in /home/ec2-user/anaconda3/envs/pytorch_p310/lib/python3.10/site-packages (from ipython>=7.31.1->ipdb) (4.12.2)\n",
      "Requirement already satisfied: parso<0.9.0,>=0.8.4 in /home/ec2-user/anaconda3/envs/pytorch_p310/lib/python3.10/site-packages (from jedi>=0.16->ipython>=7.31.1->ipdb) (0.8.4)\n",
      "Requirement already satisfied: ptyprocess>=0.5 in /home/ec2-user/anaconda3/envs/pytorch_p310/lib/python3.10/site-packages (from pexpect>4.3->ipython>=7.31.1->ipdb) (0.7.0)\n",
      "Requirement already satisfied: wcwidth in /home/ec2-user/anaconda3/envs/pytorch_p310/lib/python3.10/site-packages (from prompt_toolkit<3.1.0,>=3.0.41->ipython>=7.31.1->ipdb) (0.2.13)\n",
      "Requirement already satisfied: executing>=1.2.0 in /home/ec2-user/anaconda3/envs/pytorch_p310/lib/python3.10/site-packages (from stack_data->ipython>=7.31.1->ipdb) (2.1.0)\n",
      "Requirement already satisfied: asttokens>=2.1.0 in /home/ec2-user/anaconda3/envs/pytorch_p310/lib/python3.10/site-packages (from stack_data->ipython>=7.31.1->ipdb) (3.0.0)\n",
      "Requirement already satisfied: pure_eval in /home/ec2-user/anaconda3/envs/pytorch_p310/lib/python3.10/site-packages (from stack_data->ipython>=7.31.1->ipdb) (0.2.3)\n",
      "Downloading ipdb-0.13.13-py3-none-any.whl (12 kB)\n",
      "Installing collected packages: ipdb\n",
      "Successfully installed ipdb-0.13.13\n",
      "Collecting pydicom\n",
      "  Downloading pydicom-3.0.1-py3-none-any.whl.metadata (9.4 kB)\n",
      "Downloading pydicom-3.0.1-py3-none-any.whl (2.4 MB)\n",
      "\u001b[2K   \u001b[90m━━━━━━━━━━━━━━━━━━━━━━━━━━━━━━━━━━━━━━━━\u001b[0m \u001b[32m2.4/2.4 MB\u001b[0m \u001b[31m43.3 MB/s\u001b[0m eta \u001b[36m0:00:00\u001b[0m\n",
      "\u001b[?25hInstalling collected packages: pydicom\n",
      "Successfully installed pydicom-3.0.1\n",
      "Collecting segment_anything\n",
      "  Downloading segment_anything-1.0-py3-none-any.whl.metadata (487 bytes)\n",
      "Downloading segment_anything-1.0-py3-none-any.whl (36 kB)\n",
      "Installing collected packages: segment_anything\n",
      "Successfully installed segment_anything-1.0\n",
      "Collecting scikit-image\n",
      "  Downloading scikit_image-0.25.0-cp310-cp310-manylinux_2_17_x86_64.manylinux2014_x86_64.whl.metadata (14 kB)\n",
      "Requirement already satisfied: numpy>=1.24 in /home/ec2-user/anaconda3/envs/pytorch_p310/lib/python3.10/site-packages (from scikit-image) (1.26.4)\n",
      "Requirement already satisfied: scipy>=1.11.2 in /home/ec2-user/anaconda3/envs/pytorch_p310/lib/python3.10/site-packages (from scikit-image) (1.14.1)\n",
      "Requirement already satisfied: networkx>=3.0 in /home/ec2-user/anaconda3/envs/pytorch_p310/lib/python3.10/site-packages (from scikit-image) (3.4.2)\n",
      "Requirement already satisfied: pillow>=10.1 in /home/ec2-user/anaconda3/envs/pytorch_p310/lib/python3.10/site-packages (from scikit-image) (11.0.0)\n",
      "Requirement already satisfied: imageio!=2.35.0,>=2.33 in /home/ec2-user/anaconda3/envs/pytorch_p310/lib/python3.10/site-packages (from scikit-image) (2.36.1)\n",
      "Collecting tifffile>=2022.8.12 (from scikit-image)\n",
      "  Downloading tifffile-2024.12.12-py3-none-any.whl.metadata (31 kB)\n",
      "Requirement already satisfied: packaging>=21 in /home/ec2-user/anaconda3/envs/pytorch_p310/lib/python3.10/site-packages (from scikit-image) (21.3)\n",
      "Collecting lazy-loader>=0.4 (from scikit-image)\n",
      "  Downloading lazy_loader-0.4-py3-none-any.whl.metadata (7.6 kB)\n",
      "Requirement already satisfied: pyparsing!=3.0.5,>=2.0.2 in /home/ec2-user/anaconda3/envs/pytorch_p310/lib/python3.10/site-packages (from packaging>=21->scikit-image) (3.2.0)\n",
      "Downloading scikit_image-0.25.0-cp310-cp310-manylinux_2_17_x86_64.manylinux2014_x86_64.whl (14.8 MB)\n",
      "\u001b[2K   \u001b[90m━━━━━━━━━━━━━━━━━━━━━━━━━━━━━━━━━━━━━━━━\u001b[0m \u001b[32m14.8/14.8 MB\u001b[0m \u001b[31m35.4 MB/s\u001b[0m eta \u001b[36m0:00:00\u001b[0m:00:01\u001b[0m\n",
      "\u001b[?25hDownloading lazy_loader-0.4-py3-none-any.whl (12 kB)\n",
      "Downloading tifffile-2024.12.12-py3-none-any.whl (227 kB)\n",
      "Installing collected packages: tifffile, lazy-loader, scikit-image\n",
      "Successfully installed lazy-loader-0.4 scikit-image-0.25.0 tifffile-2024.12.12\n",
      "Collecting kaleido\n",
      "  Downloading kaleido-0.2.1-py2.py3-none-manylinux1_x86_64.whl.metadata (15 kB)\n",
      "Downloading kaleido-0.2.1-py2.py3-none-manylinux1_x86_64.whl (79.9 MB)\n",
      "\u001b[2K   \u001b[90m━━━━━━━━━━━━━━━━━━━━━━━━━━━━━━━━━━━━━━━━\u001b[0m \u001b[32m79.9/79.9 MB\u001b[0m \u001b[31m47.0 MB/s\u001b[0m eta \u001b[36m0:00:00\u001b[0m:00:01\u001b[0m\n",
      "\u001b[?25hInstalling collected packages: kaleido\n",
      "Successfully installed kaleido-0.2.1\n"
     ]
    },
    {
     "name": "stderr",
     "output_type": "stream",
     "text": [
      "Matplotlib is building the font cache; this may take a moment.\n",
      "Downloading: \"https://download.pytorch.org/models/vit_b_32-d86f8d99.pth\" to /home/ec2-user/.cache/torch/hub/checkpoints/vit_b_32-d86f8d99.pth\n",
      "Downloading: \"https://download.pytorch.org/models/resnext50_32x4d-1a0047aa.pth\" to /home/ec2-user/.cache/torch/hub/checkpoints/resnext50_32x4d-1a0047aa.pth\n",
      "Downloading: \"https://download.pytorch.org/models/resnext101_64x4d-173b62eb.pth\" to /home/ec2-user/.cache/torch/hub/checkpoints/resnext101_64x4d-173b62eb.pth\n"
     ]
    }
   ],
   "source": [
    "# Install packages\n",
    "!pip install optuna\n",
    "!pip install torcheval\n",
    "!pip install ipdb\n",
    "!pip install pydicom\n",
    "!pip install segment_anything\n",
    "!pip install scikit-image\n",
    "!pip install -U kaleido\n",
    "\n",
    "# Import classes\n",
    "from TrainUtils.OptunaParamFinder import OptunaParamFinder\n",
    "from DataUtils.XrayDataset import XrayDataset\n",
    "from Enumerators.NetType import NetType\n",
    "\n",
    "# Initialize the file system\n",
    "import s3fs\n",
    "s3 = s3fs.S3FileSystem()"
   ]
  },
  {
   "cell_type": "markdown",
   "id": "ff4f64c6-617a-43b4-96dd-a6a6e68fb98a",
   "metadata": {},
   "source": [
    "# Initialize data"
   ]
  },
  {
   "cell_type": "code",
   "execution_count": 2,
   "id": "94a35c52-9721-41af-9000-ee94b1b32f09",
   "metadata": {
    "tags": []
   },
   "outputs": [
    {
     "name": "stdout",
     "output_type": "stream",
     "text": [
      "The dataset xray_dataset_training have been loaded!\n",
      "The dataset xray_dataset_validation have been loaded!\n",
      "The dataset xray_dataset_test have been loaded!\n"
     ]
    }
   ],
   "source": [
    "# Define variables\n",
    "working_dir1 = \"s3://dd-s-matteo-dev-resources/\"\n",
    "\n",
    "# Load data\n",
    "train_data1 = XrayDataset.load_dataset(working_dir=working_dir1, dataset_name=\"xray_dataset_training\", s3=s3)\n",
    "val_data1 = XrayDataset.load_dataset(working_dir=working_dir1, dataset_name=\"xray_dataset_validation\", s3=s3)\n",
    "test_data1 = XrayDataset.load_dataset(working_dir=working_dir1, dataset_name=\"xray_dataset_test\", s3=s3)"
   ]
  },
  {
   "cell_type": "markdown",
   "id": "f0bb3835-08ee-403f-a76e-2bd648c972dc",
   "metadata": {},
   "source": [
    "# Optimize parameters"
   ]
  },
  {
   "cell_type": "code",
   "execution_count": 4,
   "id": "4cb9cc00-2b64-496e-88cb-589871342ca0",
   "metadata": {
    "tags": []
   },
   "outputs": [
    {
     "name": "stderr",
     "output_type": "stream",
     "text": [
      "[I 2025-01-03 14:56:36,516] A new study created in memory with name: no-name-bf672849-a02d-457c-86e4-050042ead531\n"
     ]
    },
    {
     "name": "stdout",
     "output_type": "stream",
     "text": [
      "-------------------------------------------------------------------------------------------------------\n",
      "Parameters: {'n_conv_segment_neurons': 2048, 'n_conv_view_neurons': 512, 'n_conv_segment_layers': 1, 'n_conv_view_layers': 1, 'kernel_size': 3, 'n_fc_layers': 2, 'optimizer': 'RMSprop', 'lr_last': 1e-05, 'lr_second_last_factor': 31, 'batch_size': 16, 'p_dropout': 0.6, 'use_batch_norm': True}\n",
      "Validation convergence has been reached sooner...\n",
      "'resnext101_optuna' has been successfully saved!... train loss: 0.215 -> 0.0555\n",
      "\n",
      "Training loss = 45.67308 - Training accuracy = 53.2786906% - Training F1-score = 58.874%\n",
      "Performance for TRAINING set:\n",
      " - Accuracy: 53.28%\n",
      " - LOSS: 45.67\n",
      " - F1-score: 58.87%\n",
      " - AUC: 64.29%\n",
      " - MCC: 0.34\n",
      "\n"
     ]
    },
    {
     "name": "stderr",
     "output_type": "stream",
     "text": [
      "[I 2025-01-03 15:59:49,191] Trial 50 finished with value: 0.5618 and parameters: {'n_conv_segment_neurons': 11, 'n_conv_view_neurons': 9, 'n_conv_segment_layers': 1, 'n_conv_view_layers': 1, 'kernel_size': 3, 'n_fc_layers': 2, 'optimizer': 'RMSprop', 'lr_last': 5, 'lr_second_last_factor': 31, 'batch_size': 4, 'p_drop': 6, 'use_batch_norm': True}. Best is trial 14 with value: 0.60241.\n"
     ]
    },
    {
     "name": "stdout",
     "output_type": "stream",
     "text": [
      "Validation loss = 40.625 - Validation accuracy = 51.8518507% - Validation F1-score = 56.18\n",
      "Performance for VALIDATION set:\n",
      " - Accuracy: 51.85%\n",
      " - LOSS: 40.62\n",
      " - F1-score: 56.18%\n",
      " - AUC: 63.53%\n",
      " - MCC: 0.3\n",
      "-------------------------------------------------------------------------------------------------------\n",
      "Parameters: {'n_conv_segment_neurons': 1024, 'n_conv_view_neurons': 512, 'n_conv_segment_layers': 1, 'n_conv_view_layers': 1, 'kernel_size': 5, 'n_fc_layers': 2, 'optimizer': 'RMSprop', 'lr_last': 1e-05, 'lr_second_last_factor': 11, 'batch_size': 32, 'p_dropout': 0.4, 'use_batch_norm': True}\n"
     ]
    },
    {
     "name": "stderr",
     "output_type": "stream",
     "text": [
      "[I 2025-01-03 16:16:49,056] Trial 51 pruned. \n"
     ]
    },
    {
     "name": "stdout",
     "output_type": "stream",
     "text": [
      "-------------------------------------------------------------------------------------------------------\n",
      "Parameters: {'n_conv_segment_neurons': 512, 'n_conv_view_neurons': 512, 'n_conv_segment_layers': 1, 'n_conv_view_layers': 1, 'kernel_size': 5, 'n_fc_layers': 2, 'optimizer': 'RMSprop', 'lr_last': 1e-05, 'lr_second_last_factor': 11, 'batch_size': 32, 'p_dropout': 0.4, 'use_batch_norm': True}\n",
      "Validation convergence has been reached sooner...\n",
      "'resnext101_optuna' has been successfully saved!... train loss: 0.2839 -> 0.0432\n",
      "\n",
      "Training loss = 49.21875 - Training accuracy = 53.2786906% - Training F1-score = 58.874%\n",
      "Performance for TRAINING set:\n",
      " - Accuracy: 53.28%\n",
      " - LOSS: 49.22\n",
      " - F1-score: 58.87%\n",
      " - AUC: 64.29%\n",
      " - MCC: 0.34\n",
      "\n",
      "Validation loss = 47.97794 - Validation accuracy = 51.8518507% - Validation F1-score = 56.18\n",
      "Performance for VALIDATION set:\n",
      " - Accuracy: 51.85%\n",
      " - LOSS: 47.98\n",
      " - F1-score: 56.18%\n",
      " - AUC: 63.53%\n",
      " - MCC: 0.3\n"
     ]
    },
    {
     "name": "stderr",
     "output_type": "stream",
     "text": [
      "[I 2025-01-03 17:05:10,448] Trial 52 finished with value: 0.5618 and parameters: {'n_conv_segment_neurons': 9, 'n_conv_view_neurons': 9, 'n_conv_segment_layers': 1, 'n_conv_view_layers': 1, 'kernel_size': 5, 'n_fc_layers': 2, 'optimizer': 'RMSprop', 'lr_last': 5, 'lr_second_last_factor': 11, 'batch_size': 5, 'p_drop': 4, 'use_batch_norm': True}. Best is trial 14 with value: 0.60241.\n"
     ]
    },
    {
     "name": "stdout",
     "output_type": "stream",
     "text": [
      "-------------------------------------------------------------------------------------------------------\n",
      "Parameters: {'n_conv_segment_neurons': 1024, 'n_conv_view_neurons': 512, 'n_conv_segment_layers': 1, 'n_conv_view_layers': 1, 'kernel_size': 5, 'n_fc_layers': 2, 'optimizer': 'RMSprop', 'lr_last': 1e-05, 'lr_second_last_factor': 11, 'batch_size': 32, 'p_dropout': 0.4, 'use_batch_norm': True}\n"
     ]
    },
    {
     "name": "stderr",
     "output_type": "stream",
     "text": [
      "[I 2025-01-03 17:06:54,445] Trial 53 pruned. \n"
     ]
    },
    {
     "name": "stdout",
     "output_type": "stream",
     "text": [
      "-------------------------------------------------------------------------------------------------------\n",
      "Parameters: {'n_conv_segment_neurons': 1024, 'n_conv_view_neurons': 512, 'n_conv_segment_layers': 1, 'n_conv_view_layers': 1, 'kernel_size': 5, 'n_fc_layers': 2, 'optimizer': 'RMSprop', 'lr_last': 1e-05, 'lr_second_last_factor': 1, 'batch_size': 32, 'p_dropout': 0.4, 'use_batch_norm': True}\n"
     ]
    },
    {
     "name": "stderr",
     "output_type": "stream",
     "text": [
      "[I 2025-01-03 17:08:40,013] Trial 54 pruned. \n"
     ]
    },
    {
     "name": "stdout",
     "output_type": "stream",
     "text": [
      "\n",
      "Storing study...\n",
      "Study stored!\n",
      "Best study:\n",
      "batch_size: 4\n",
      "kernel_size: 3\n",
      "lr_last: 4\n",
      "lr_second_last_factor: 1\n",
      "n_conv_segment_layers: 1\n",
      "n_conv_segment_neurons: 11\n",
      "n_conv_view_layers: 1\n",
      "n_conv_view_neurons: 9\n",
      "n_fc_layers: 2\n",
      "optimizer: RMSprop\n",
      "p_drop: 6\n",
      "use_batch_norm: True\n"
     ]
    }
   ],
   "source": [
    "# Define variables\n",
    "model_name1 = \"resnext101_optuna\"\n",
    "net_type1 = NetType.BASE_RES_NEXT101\n",
    "epochs1 = 50\n",
    "val_epochs1 = 10\n",
    "use_cuda1 = True\n",
    "\n",
    "# Define Optuna model\n",
    "n_trials1 = 5\n",
    "optuna1 = OptunaParamFinder(model_name=model_name1, working_dir=working_dir1, train_data=train_data1,\n",
    "                            val_data=val_data1, test_data=test_data1, net_type=net_type1, epochs=epochs1,\n",
    "                            val_epochs=val_epochs1, use_cuda=use_cuda1, n_trials=n_trials1, s3=s3)\n",
    "# Run search\n",
    "optuna1.initialize_study()\n",
    "\n",
    "# Evaluate study\n",
    "print()\n",
    "optuna1.analyze_study()"
   ]
  },
  {
   "cell_type": "code",
   "execution_count": null,
   "id": "27f6d873-c059-4531-8b86-0d7a319c77cc",
   "metadata": {},
   "outputs": [],
   "source": []
  }
 ],
 "metadata": {
  "kernelspec": {
   "display_name": "conda_pytorch_p310",
   "language": "python",
   "name": "conda_pytorch_p310"
  },
  "language_info": {
   "codemirror_mode": {
    "name": "ipython",
    "version": 3
   },
   "file_extension": ".py",
   "mimetype": "text/x-python",
   "name": "python",
   "nbconvert_exporter": "python",
   "pygments_lexer": "ipython3",
   "version": "3.10.14"
  }
 },
 "nbformat": 4,
 "nbformat_minor": 5
}
