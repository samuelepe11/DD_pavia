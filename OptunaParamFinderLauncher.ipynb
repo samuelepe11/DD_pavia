{
 "cells": [
  {
   "cell_type": "markdown",
   "id": "5210174e-1b3b-4188-a8f3-e03d292dd191",
   "metadata": {},
   "source": [
    "# Settings"
   ]
  },
  {
   "cell_type": "code",
   "execution_count": 1,
   "id": "f0f437b6-b503-4297-8de3-2818d1cd0bae",
   "metadata": {
    "tags": []
   },
   "outputs": [
    {
     "name": "stdout",
     "output_type": "stream",
     "text": [
      "Requirement already satisfied: optuna in /home/ec2-user/anaconda3/envs/pytorch_p310/lib/python3.10/site-packages (4.1.0)\n",
      "Requirement already satisfied: alembic>=1.5.0 in /home/ec2-user/anaconda3/envs/pytorch_p310/lib/python3.10/site-packages (from optuna) (1.14.0)\n",
      "Requirement already satisfied: colorlog in /home/ec2-user/anaconda3/envs/pytorch_p310/lib/python3.10/site-packages (from optuna) (6.9.0)\n",
      "Requirement already satisfied: numpy in /home/ec2-user/anaconda3/envs/pytorch_p310/lib/python3.10/site-packages (from optuna) (1.26.4)\n",
      "Requirement already satisfied: packaging>=20.0 in /home/ec2-user/anaconda3/envs/pytorch_p310/lib/python3.10/site-packages (from optuna) (21.3)\n",
      "Requirement already satisfied: sqlalchemy>=1.4.2 in /home/ec2-user/anaconda3/envs/pytorch_p310/lib/python3.10/site-packages (from optuna) (2.0.37)\n",
      "Requirement already satisfied: tqdm in /home/ec2-user/anaconda3/envs/pytorch_p310/lib/python3.10/site-packages (from optuna) (4.67.1)\n",
      "Requirement already satisfied: PyYAML in /home/ec2-user/anaconda3/envs/pytorch_p310/lib/python3.10/site-packages (from optuna) (6.0.2)\n",
      "Requirement already satisfied: Mako in /home/ec2-user/anaconda3/envs/pytorch_p310/lib/python3.10/site-packages (from alembic>=1.5.0->optuna) (1.3.8)\n",
      "Requirement already satisfied: typing-extensions>=4 in /home/ec2-user/anaconda3/envs/pytorch_p310/lib/python3.10/site-packages (from alembic>=1.5.0->optuna) (4.12.2)\n",
      "Requirement already satisfied: pyparsing!=3.0.5,>=2.0.2 in /home/ec2-user/anaconda3/envs/pytorch_p310/lib/python3.10/site-packages (from packaging>=20.0->optuna) (3.2.0)\n",
      "Requirement already satisfied: greenlet!=0.4.17 in /home/ec2-user/anaconda3/envs/pytorch_p310/lib/python3.10/site-packages (from sqlalchemy>=1.4.2->optuna) (3.1.1)\n",
      "Requirement already satisfied: MarkupSafe>=0.9.2 in /home/ec2-user/anaconda3/envs/pytorch_p310/lib/python3.10/site-packages (from Mako->alembic>=1.5.0->optuna) (3.0.2)\n",
      "Requirement already satisfied: torcheval in /home/ec2-user/anaconda3/envs/pytorch_p310/lib/python3.10/site-packages (0.0.7)\n",
      "Requirement already satisfied: typing-extensions in /home/ec2-user/anaconda3/envs/pytorch_p310/lib/python3.10/site-packages (from torcheval) (4.12.2)\n",
      "Requirement already satisfied: ipdb in /home/ec2-user/anaconda3/envs/pytorch_p310/lib/python3.10/site-packages (0.13.13)\n",
      "Requirement already satisfied: ipython>=7.31.1 in /home/ec2-user/anaconda3/envs/pytorch_p310/lib/python3.10/site-packages (from ipdb) (8.30.0)\n",
      "Requirement already satisfied: tomli in /home/ec2-user/anaconda3/envs/pytorch_p310/lib/python3.10/site-packages (from ipdb) (2.2.1)\n",
      "Requirement already satisfied: decorator in /home/ec2-user/anaconda3/envs/pytorch_p310/lib/python3.10/site-packages (from ipdb) (5.1.1)\n",
      "Requirement already satisfied: exceptiongroup in /home/ec2-user/anaconda3/envs/pytorch_p310/lib/python3.10/site-packages (from ipython>=7.31.1->ipdb) (1.2.2)\n",
      "Requirement already satisfied: jedi>=0.16 in /home/ec2-user/anaconda3/envs/pytorch_p310/lib/python3.10/site-packages (from ipython>=7.31.1->ipdb) (0.19.2)\n",
      "Requirement already satisfied: matplotlib-inline in /home/ec2-user/anaconda3/envs/pytorch_p310/lib/python3.10/site-packages (from ipython>=7.31.1->ipdb) (0.1.7)\n",
      "Requirement already satisfied: pexpect>4.3 in /home/ec2-user/anaconda3/envs/pytorch_p310/lib/python3.10/site-packages (from ipython>=7.31.1->ipdb) (4.9.0)\n",
      "Requirement already satisfied: prompt_toolkit<3.1.0,>=3.0.41 in /home/ec2-user/anaconda3/envs/pytorch_p310/lib/python3.10/site-packages (from ipython>=7.31.1->ipdb) (3.0.48)\n",
      "Requirement already satisfied: pygments>=2.4.0 in /home/ec2-user/anaconda3/envs/pytorch_p310/lib/python3.10/site-packages (from ipython>=7.31.1->ipdb) (2.18.0)\n",
      "Requirement already satisfied: stack_data in /home/ec2-user/anaconda3/envs/pytorch_p310/lib/python3.10/site-packages (from ipython>=7.31.1->ipdb) (0.6.3)\n",
      "Requirement already satisfied: traitlets>=5.13.0 in /home/ec2-user/anaconda3/envs/pytorch_p310/lib/python3.10/site-packages (from ipython>=7.31.1->ipdb) (5.14.3)\n",
      "Requirement already satisfied: typing_extensions>=4.6 in /home/ec2-user/anaconda3/envs/pytorch_p310/lib/python3.10/site-packages (from ipython>=7.31.1->ipdb) (4.12.2)\n",
      "Requirement already satisfied: parso<0.9.0,>=0.8.4 in /home/ec2-user/anaconda3/envs/pytorch_p310/lib/python3.10/site-packages (from jedi>=0.16->ipython>=7.31.1->ipdb) (0.8.4)\n",
      "Requirement already satisfied: ptyprocess>=0.5 in /home/ec2-user/anaconda3/envs/pytorch_p310/lib/python3.10/site-packages (from pexpect>4.3->ipython>=7.31.1->ipdb) (0.7.0)\n",
      "Requirement already satisfied: wcwidth in /home/ec2-user/anaconda3/envs/pytorch_p310/lib/python3.10/site-packages (from prompt_toolkit<3.1.0,>=3.0.41->ipython>=7.31.1->ipdb) (0.2.13)\n",
      "Requirement already satisfied: executing>=1.2.0 in /home/ec2-user/anaconda3/envs/pytorch_p310/lib/python3.10/site-packages (from stack_data->ipython>=7.31.1->ipdb) (2.1.0)\n",
      "Requirement already satisfied: asttokens>=2.1.0 in /home/ec2-user/anaconda3/envs/pytorch_p310/lib/python3.10/site-packages (from stack_data->ipython>=7.31.1->ipdb) (3.0.0)\n",
      "Requirement already satisfied: pure_eval in /home/ec2-user/anaconda3/envs/pytorch_p310/lib/python3.10/site-packages (from stack_data->ipython>=7.31.1->ipdb) (0.2.3)\n",
      "Requirement already satisfied: pydicom in /home/ec2-user/anaconda3/envs/pytorch_p310/lib/python3.10/site-packages (3.0.1)\n",
      "Requirement already satisfied: segment_anything in /home/ec2-user/anaconda3/envs/pytorch_p310/lib/python3.10/site-packages (1.0)\n",
      "Requirement already satisfied: scikit-image in /home/ec2-user/anaconda3/envs/pytorch_p310/lib/python3.10/site-packages (0.25.0)\n",
      "Requirement already satisfied: numpy>=1.24 in /home/ec2-user/anaconda3/envs/pytorch_p310/lib/python3.10/site-packages (from scikit-image) (1.26.4)\n",
      "Requirement already satisfied: scipy>=1.11.2 in /home/ec2-user/anaconda3/envs/pytorch_p310/lib/python3.10/site-packages (from scikit-image) (1.14.1)\n",
      "Requirement already satisfied: networkx>=3.0 in /home/ec2-user/anaconda3/envs/pytorch_p310/lib/python3.10/site-packages (from scikit-image) (3.4.2)\n",
      "Requirement already satisfied: pillow>=10.1 in /home/ec2-user/anaconda3/envs/pytorch_p310/lib/python3.10/site-packages (from scikit-image) (11.0.0)\n",
      "Requirement already satisfied: imageio!=2.35.0,>=2.33 in /home/ec2-user/anaconda3/envs/pytorch_p310/lib/python3.10/site-packages (from scikit-image) (2.36.1)\n",
      "Requirement already satisfied: tifffile>=2022.8.12 in /home/ec2-user/anaconda3/envs/pytorch_p310/lib/python3.10/site-packages (from scikit-image) (2025.1.10)\n",
      "Requirement already satisfied: packaging>=21 in /home/ec2-user/anaconda3/envs/pytorch_p310/lib/python3.10/site-packages (from scikit-image) (21.3)\n",
      "Requirement already satisfied: lazy-loader>=0.4 in /home/ec2-user/anaconda3/envs/pytorch_p310/lib/python3.10/site-packages (from scikit-image) (0.4)\n",
      "Requirement already satisfied: pyparsing!=3.0.5,>=2.0.2 in /home/ec2-user/anaconda3/envs/pytorch_p310/lib/python3.10/site-packages (from packaging>=21->scikit-image) (3.2.0)\n",
      "Requirement already satisfied: kaleido in /home/ec2-user/anaconda3/envs/pytorch_p310/lib/python3.10/site-packages (0.2.1)\n"
     ]
    }
   ],
   "source": [
    "# Install packages\n",
    "!pip install optuna\n",
    "!pip install torcheval\n",
    "!pip install ipdb\n",
    "!pip install pydicom\n",
    "!pip install segment_anything\n",
    "!pip install scikit-image\n",
    "!pip install -U kaleido\n",
    "\n",
    "# Import classes\n",
    "from TrainUtils.OptunaParamFinder import OptunaParamFinder\n",
    "from DataUtils.XrayDataset import XrayDataset\n",
    "from Enumerators.NetType import NetType\n",
    "\n",
    "# Initialize the file system\n",
    "import s3fs\n",
    "s3 = s3fs.S3FileSystem()"
   ]
  },
  {
   "cell_type": "markdown",
   "id": "ff4f64c6-617a-43b4-96dd-a6a6e68fb98a",
   "metadata": {},
   "source": [
    "# Initialize data"
   ]
  },
  {
   "cell_type": "code",
   "execution_count": 2,
   "id": "94a35c52-9721-41af-9000-ee94b1b32f09",
   "metadata": {
    "tags": []
   },
   "outputs": [
    {
     "name": "stdout",
     "output_type": "stream",
     "text": [
      "The dataset xray_dataset_training have been loaded!\n",
      "The dataset xray_dataset_validation have been loaded!\n",
      "The dataset xray_dataset_test have been loaded!\n"
     ]
    }
   ],
   "source": [
    "# Define variables\n",
    "working_dir1 = \"s3://dd-s-matteo-dev-resources/\"\n",
    "\n",
    "# Load data\n",
    "train_data1 = XrayDataset.load_dataset(working_dir=working_dir1, dataset_name=\"xray_dataset_training\", s3=s3)\n",
    "val_data1 = XrayDataset.load_dataset(working_dir=working_dir1, dataset_name=\"xray_dataset_validation\", s3=s3)\n",
    "test_data1 = XrayDataset.load_dataset(working_dir=working_dir1, dataset_name=\"xray_dataset_test\", s3=s3)"
   ]
  },
  {
   "cell_type": "markdown",
   "id": "f0bb3835-08ee-403f-a76e-2bd648c972dc",
   "metadata": {},
   "source": [
    "# Optimize parameters"
   ]
  },
  {
   "cell_type": "code",
   "execution_count": null,
   "id": "4cb9cc00-2b64-496e-88cb-589871342ca0",
   "metadata": {
    "tags": []
   },
   "outputs": [
    {
     "name": "stderr",
     "output_type": "stream",
     "text": [
      "[I 2025-01-14 10:22:55,418] A new study created in memory with name: no-name-2ee9c8e3-3710-4aff-84a0-0c486e9d24f3\n"
     ]
    },
    {
     "name": "stdout",
     "output_type": "stream",
     "text": [
      "-------------------------------------------------------------------------------------------------------\n",
      "Parameters: {'n_conv_segment_neurons': 2048, 'n_conv_view_neurons': 2048, 'n_conv_segment_layers': 1, 'n_conv_view_layers': 1, 'kernel_size': 5, 'n_fc_layers': 3, 'optimizer': 'Adam', 'lr_last': 1e-06, 'lr_second_last_factor': 41, 'batch_size': 1, 'p_dropout': 0.6, 'use_batch_norm': False}\n"
     ]
    },
    {
     "name": "stderr",
     "output_type": "stream",
     "text": [
      "/home/ec2-user/anaconda3/envs/pytorch_p310/lib/python3.10/site-packages/fsspec/registry.py:279: UserWarning: Your installed version of s3fs is very old and known to cause\n",
      "severe performance issues, see also https://github.com/dask/dask/issues/10276\n",
      "\n",
      "To fix, you should specify a lower version bound on s3fs, or\n",
      "update the current installation.\n",
      "\n",
      "  warnings.warn(s3_msg)\n"
     ]
    }
   ],
   "source": [
    "# Define variables\n",
    "model_name1 = \"vit_optuna\"\n",
    "net_type1 = NetType.ATTENTION_VIT\n",
    "epochs1 = 50\n",
    "val_epochs1 = 10\n",
    "use_cuda1 = True\n",
    "\n",
    "# Define Optuna model\n",
    "n_trials1 = 2\n",
    "optuna1 = OptunaParamFinder(model_name=model_name1, working_dir=working_dir1, train_data=train_data1,\n",
    "                            val_data=val_data1, test_data=test_data1, net_type=net_type1, epochs=epochs1,\n",
    "                            val_epochs=val_epochs1, use_cuda=use_cuda1, n_trials=n_trials1, s3=s3)\n",
    "# Run search\n",
    "optuna1.initialize_study()\n",
    "\n",
    "# Evaluate study\n",
    "print()\n",
    "optuna1.analyze_study()"
   ]
  },
  {
   "cell_type": "code",
   "execution_count": null,
   "id": "fd8c409d-d6de-44cb-99a9-61a9b5e57c06",
   "metadata": {},
   "outputs": [],
   "source": []
  }
 ],
 "metadata": {
  "kernelspec": {
   "display_name": "conda_pytorch_p310",
   "language": "python",
   "name": "conda_pytorch_p310"
  },
  "language_info": {
   "codemirror_mode": {
    "name": "ipython",
    "version": 3
   },
   "file_extension": ".py",
   "mimetype": "text/x-python",
   "name": "python",
   "nbconvert_exporter": "python",
   "pygments_lexer": "ipython3",
   "version": "3.10.14"
  }
 },
 "nbformat": 4,
 "nbformat_minor": 5
}
